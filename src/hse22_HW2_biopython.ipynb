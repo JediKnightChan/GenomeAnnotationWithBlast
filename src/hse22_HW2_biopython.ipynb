{
  "nbformat": 4,
  "nbformat_minor": 0,
  "metadata": {
    "colab": {
      "provenance": [],
      "collapsed_sections": [],
      "include_colab_link": true
    },
    "kernelspec": {
      "name": "python3",
      "display_name": "Python 3"
    },
    "language_info": {
      "name": "python"
    }
  },
  "cells": [
    {
      "cell_type": "markdown",
      "metadata": {
        "id": "view-in-github",
        "colab_type": "text"
      },
      "source": [
        "<a href=\"https://colab.research.google.com/github/JediKnightChan/GenomeAnnotationWithGenemark/blob/master/src/hse22_HW2_biopython.ipynb\" target=\"_parent\"><img src=\"https://colab.research.google.com/assets/colab-badge.svg\" alt=\"Open In Colab\"/></a>"
      ]
    },
    {
      "cell_type": "markdown",
      "source": [
        "# Скачиваем данные и устанавливаем программы"
      ],
      "metadata": {
        "id": "WJ71oQTxShEj"
      }
    },
    {
      "cell_type": "code",
      "source": [
        "!wget https://raw.githubusercontent.com/JediKnightChan/GenomeAnnotationWithBlast/master/data/gms2.lst"
      ],
      "metadata": {
        "id": "fWSU9pxNTOSR",
        "colab": {
          "base_uri": "https://localhost:8080/"
        },
        "outputId": "4b98d14a-4777-47d1-ca84-66717fe238ae"
      },
      "execution_count": null,
      "outputs": [
        {
          "output_type": "stream",
          "name": "stdout",
          "text": [
            "--2022-10-19 20:17:03--  https://raw.githubusercontent.com/JediKnightChan/GenomeAnnotationWithBlast/master/data/gms2.lst\n",
            "Resolving raw.githubusercontent.com (raw.githubusercontent.com)... 185.199.109.133, 185.199.110.133, 185.199.108.133, ...\n",
            "Connecting to raw.githubusercontent.com (raw.githubusercontent.com)|185.199.109.133|:443... connected.\n",
            "HTTP request sent, awaiting response... 200 OK\n",
            "Length: 221853 (217K) [text/plain]\n",
            "Saving to: ‘gms2.lst’\n",
            "\n",
            "\rgms2.lst              0%[                    ]       0  --.-KB/s               \rgms2.lst            100%[===================>] 216.65K  --.-KB/s    in 0.009s  \n",
            "\n",
            "2022-10-19 20:17:03 (24.5 MB/s) - ‘gms2.lst’ saved [221853/221853]\n",
            "\n"
          ]
        }
      ]
    },
    {
      "cell_type": "code",
      "source": [
        "!wget https://raw.githubusercontent.com/JediKnightChan/GenomeAssemblingWithPlatanus/master/res2/platanus_scaffold.fa; mv platanus_scaffold.fa scaffolds.fasta"
      ],
      "metadata": {
        "id": "tJv_md3y5wPY",
        "colab": {
          "base_uri": "https://localhost:8080/"
        },
        "outputId": "2debd1aa-9f79-4bb9-ddc2-a6e86f4b24ea"
      },
      "execution_count": null,
      "outputs": [
        {
          "output_type": "stream",
          "name": "stdout",
          "text": [
            "--2022-10-19 20:21:48--  https://raw.githubusercontent.com/JediKnightChan/GenomeAssemblingWithPlatanus/master/res2/platanus_scaffold.fa\n",
            "Resolving raw.githubusercontent.com (raw.githubusercontent.com)... 185.199.108.133, 185.199.109.133, 185.199.110.133, ...\n",
            "Connecting to raw.githubusercontent.com (raw.githubusercontent.com)|185.199.108.133|:443... connected.\n",
            "HTTP request sent, awaiting response... 200 OK\n",
            "Length: 3927676 (3.7M) [text/plain]\n",
            "Saving to: ‘platanus_scaffold.fa’\n",
            "\n",
            "platanus_scaffold.f 100%[===================>]   3.75M  --.-KB/s    in 0.03s   \n",
            "\n",
            "2022-10-19 20:21:49 (127 MB/s) - ‘platanus_scaffold.fa’ saved [3927676/3927676]\n",
            "\n"
          ]
        }
      ]
    },
    {
      "cell_type": "code",
      "source": [
        "!wget https://raw.githubusercontent.com/JediKnightChan/GenomeAnnotationWithBlast/master/data/scaffolds.fasta"
      ],
      "metadata": {
        "id": "yWoD0myNTVi8",
        "colab": {
          "base_uri": "https://localhost:8080/"
        },
        "outputId": "38d2f64e-3b48-4537-bbe2-dbe348d6c96f"
      },
      "execution_count": null,
      "outputs": [
        {
          "output_type": "stream",
          "name": "stdout",
          "text": [
            "--2022-10-19 20:17:16--  https://raw.githubusercontent.com/JediKnightChan/GenomeAnnotationWithBlast/master/data/scaffolds.fasta\n",
            "Resolving raw.githubusercontent.com (raw.githubusercontent.com)... 185.199.108.133, 185.199.109.133, 185.199.110.133, ...\n",
            "Connecting to raw.githubusercontent.com (raw.githubusercontent.com)|185.199.108.133|:443... connected.\n",
            "HTTP request sent, awaiting response... 404 Not Found\n",
            "2022-10-19 20:17:16 ERROR 404: Not Found.\n",
            "\n"
          ]
        }
      ]
    },
    {
      "cell_type": "code",
      "source": [
        "!wget https://raw.githubusercontent.com/JediKnightChan/GenomeAnnotationWithBlast/master/data/proteins.fasta"
      ],
      "metadata": {
        "id": "FkuulZekTbh9",
        "colab": {
          "base_uri": "https://localhost:8080/"
        },
        "outputId": "acaf33b2-c345-43ed-abc1-d0e9d76b0842"
      },
      "execution_count": null,
      "outputs": [
        {
          "output_type": "stream",
          "name": "stdout",
          "text": [
            "--2022-10-19 20:17:21--  https://raw.githubusercontent.com/JediKnightChan/GenomeAnnotationWithBlast/master/data/proteins.fasta\n",
            "Resolving raw.githubusercontent.com (raw.githubusercontent.com)... 185.199.108.133, 185.199.109.133, 185.199.110.133, ...\n",
            "Connecting to raw.githubusercontent.com (raw.githubusercontent.com)|185.199.108.133|:443... connected.\n",
            "HTTP request sent, awaiting response... 200 OK\n",
            "Length: 1427046 (1.4M) [text/plain]\n",
            "Saving to: ‘proteins.fasta’\n",
            "\n",
            "proteins.fasta      100%[===================>]   1.36M  --.-KB/s    in 0.03s   \n",
            "\n",
            "2022-10-19 20:17:21 (47.1 MB/s) - ‘proteins.fasta’ saved [1427046/1427046]\n",
            "\n"
          ]
        }
      ]
    },
    {
      "cell_type": "code",
      "source": [
        "!wget https://raw.githubusercontent.com/JediKnightChan/GenomeAnnotationWithBlast/master/data/scaffolds.hits_from_MIL_1.txt"
      ],
      "metadata": {
        "id": "wljcApdJTjGr",
        "colab": {
          "base_uri": "https://localhost:8080/"
        },
        "outputId": "ef1be34f-8ff9-49cf-da26-daacc740fd3e"
      },
      "execution_count": null,
      "outputs": [
        {
          "output_type": "stream",
          "name": "stdout",
          "text": [
            "--2022-10-19 20:17:27--  https://raw.githubusercontent.com/JediKnightChan/GenomeAnnotationWithBlast/master/data/scaffolds.hits_from_MIL_1.txt\n",
            "Resolving raw.githubusercontent.com (raw.githubusercontent.com)... 185.199.110.133, 185.199.111.133, 185.199.109.133, ...\n",
            "Connecting to raw.githubusercontent.com (raw.githubusercontent.com)|185.199.110.133|:443... connected.\n",
            "HTTP request sent, awaiting response... 200 OK\n",
            "Length: 830410 (811K) [text/plain]\n",
            "Saving to: ‘scaffolds.hits_from_MIL_1.txt’\n",
            "\n",
            "\r          scaffolds   0%[                    ]       0  --.-KB/s               \rscaffolds.hits_from 100%[===================>] 810.95K  --.-KB/s    in 0.02s   \n",
            "\n",
            "2022-10-19 20:17:27 (47.8 MB/s) - ‘scaffolds.hits_from_MIL_1.txt’ saved [830410/830410]\n",
            "\n"
          ]
        }
      ]
    },
    {
      "cell_type": "code",
      "source": [
        "!wget https://raw.githubusercontent.com/JediKnightChan/GenomeAnnotationWithBlast/master/data/scaffolds.hits_from_SwissProt.txt"
      ],
      "metadata": {
        "id": "7ZGyVtAfTopz",
        "colab": {
          "base_uri": "https://localhost:8080/"
        },
        "outputId": "9e6e805a-073b-409f-9bcf-5b3070729e15"
      },
      "execution_count": null,
      "outputs": [
        {
          "output_type": "stream",
          "name": "stdout",
          "text": [
            "--2022-10-19 20:17:32--  https://raw.githubusercontent.com/JediKnightChan/GenomeAnnotationWithBlast/master/data/scaffolds.hits_from_SwissProt.txt\n",
            "Resolving raw.githubusercontent.com (raw.githubusercontent.com)... 185.199.108.133, 185.199.109.133, 185.199.110.133, ...\n",
            "Connecting to raw.githubusercontent.com (raw.githubusercontent.com)|185.199.108.133|:443... connected.\n",
            "HTTP request sent, awaiting response... 200 OK\n",
            "Length: 66249 (65K) [text/plain]\n",
            "Saving to: ‘scaffolds.hits_from_SwissProt.txt’\n",
            "\n",
            "scaffolds.hits_from 100%[===================>]  64.70K  --.-KB/s    in 0.005s  \n",
            "\n",
            "2022-10-19 20:17:33 (12.6 MB/s) - ‘scaffolds.hits_from_SwissProt.txt’ saved [66249/66249]\n",
            "\n"
          ]
        }
      ]
    },
    {
      "cell_type": "markdown",
      "metadata": {
        "id": "EkEflOHmCHHW"
      },
      "source": [
        "## Скачиваем геном близкородственной бактерии T.oleivorans"
      ]
    },
    {
      "cell_type": "markdown",
      "metadata": {
        "id": "noBYTW1bRH9O"
      },
      "source": [
        "Геном, последовательности генов (нт) и белков (протеом) для бактерии Thalassolituus oleivorans MIL-1\n",
        "https://www.ncbi.nlm.nih.gov/nuccore/HF680312"
      ]
    },
    {
      "cell_type": "code",
      "source": [
        "!echo \"export PATH=\\${PATH}:/root/edirect\" >> ${HOME}/.bashrc"
      ],
      "metadata": {
        "id": "SAZU1ef15U3W"
      },
      "execution_count": null,
      "outputs": []
    },
    {
      "cell_type": "code",
      "source": [
        "!sh -c \"$(curl -fsSL ftp://ftp.ncbi.nlm.nih.gov/entrez/entrezdirect/install-edirect.sh)\""
      ],
      "metadata": {
        "id": "bqv3FR5efmk6",
        "colab": {
          "base_uri": "https://localhost:8080/"
        },
        "outputId": "aa0489f5-0a1a-4d95-947d-96b0b3d3523d"
      },
      "execution_count": null,
      "outputs": [
        {
          "output_type": "stream",
          "name": "stdout",
          "text": [
            "\n",
            "Entrez Direct has been successfully downloaded and installed.\n",
            "\n",
            "\n",
            "To activate EDirect for this terminal session, please execute the following:\n",
            "\n",
            "export PATH=${PATH}:${HOME}/edirect\n",
            "\n"
          ]
        }
      ]
    },
    {
      "cell_type": "code",
      "source": [
        "!export PATH=${PATH}:${HOME}/edirect"
      ],
      "metadata": {
        "id": "Rw8-r58I5cgs"
      },
      "execution_count": null,
      "outputs": []
    },
    {
      "cell_type": "code",
      "source": [
        "!$HOME/edirect/efetch -db nuccore -id HF680312 -format gb  >  T_oleivorans_MIL_1.gbk"
      ],
      "metadata": {
        "id": "4O3-rUx4fvbw"
      },
      "execution_count": null,
      "outputs": []
    },
    {
      "cell_type": "code",
      "metadata": {
        "id": "j2uga-mieSB6",
        "colab": {
          "base_uri": "https://localhost:8080/"
        },
        "outputId": "dc2da2c1-ded1-4256-d340-d2a3117bbe2a"
      },
      "source": [
        "!pip install biopython"
      ],
      "execution_count": null,
      "outputs": [
        {
          "output_type": "stream",
          "name": "stdout",
          "text": [
            "Looking in indexes: https://pypi.org/simple, https://us-python.pkg.dev/colab-wheels/public/simple/\n",
            "Collecting biopython\n",
            "  Downloading biopython-1.79-cp37-cp37m-manylinux_2_17_x86_64.manylinux2014_x86_64.whl (2.6 MB)\n",
            "\u001b[K     |████████████████████████████████| 2.6 MB 14.3 MB/s \n",
            "\u001b[?25hRequirement already satisfied: numpy in /usr/local/lib/python3.7/dist-packages (from biopython) (1.21.6)\n",
            "Installing collected packages: biopython\n",
            "Successfully installed biopython-1.79\n"
          ]
        }
      ]
    },
    {
      "cell_type": "markdown",
      "source": [
        "## Аннотация генома (пример)"
      ],
      "metadata": {
        "id": "EJIw_JDLUgt5"
      }
    },
    {
      "cell_type": "markdown",
      "source": [
        "Biopython Tutorial: http://biopython.org/DIST/docs/tutorial/Tutorial.html"
      ],
      "metadata": {
        "id": "qhxlclhoYhBh"
      }
    },
    {
      "cell_type": "code",
      "source": [
        "!head gms2.lst -n 50"
      ],
      "metadata": {
        "id": "G33GF-iGU9Ka",
        "colab": {
          "base_uri": "https://localhost:8080/"
        },
        "outputId": "6321d828-4a75-4641-c3f5-7c425685b257"
      },
      "execution_count": null,
      "outputs": [
        {
          "output_type": "stream",
          "name": "stdout",
          "text": [
            "# GeneMark.hmm-2 LST format\n",
            "# GeneMark.hmm-2 prokaryotic version: 1.25_lic\n",
            "# File with sequence: scaffolds.fasta\n",
            "# File with native parameters: GMS2.mod\n",
            "# Native species name and build: unspecified GeneMarkS-2-1.14_1.25_lic\n",
            "# File with MetaGeneMark parameters: /content/gms2_linux_64/mgm_11.mod\n",
            "# translation table: 11\n",
            "# output date start: Wed Oct 19 19:57:13 2022\n",
            "\n",
            "# sequence-region 1 4666\n",
            "SequenceID: scaffold1_len4666_cov271\n",
            "     1   +   <3    374     372 native\n",
            "     2   +    586    1119     534 atypical ACCGAA 10 1\n",
            "     3   +    1116    1577     462 atypical GTTGAG 8 1\n",
            "     4   +    1583    1867     285 atypical GAGCTA 6 1\n",
            "     5   +    2149    2430     282 native CCGCAA 7 1\n",
            "     6   +    2487    3371     885 atypical ATTGAC 6 1\n",
            "     7   +    3368    3796     429 atypical AAGGGG 5 1\n",
            "     8   +    4114    4623     510 native AACGCT 8 1\n",
            "# scaffold1_len4666_cov271\ttotal_logodd\t212.532\taverage_length\t470\taverage_density\t1.71\n",
            "\n",
            "# sequence-region 1 3834520\n",
            "SequenceID: scaffold2_len3834440_cov290\n",
            "     9   -   <2    328     327 native GAGGTG 4 1\n",
            "    10   +    878    1360     483 atypical CATGAA 5 1\n",
            "    11   +    1462    1767     306 atypical TCGCAG 6 1\n",
            "    12   -    1917    2171     255 native TTGTAT 8 1\n",
            "    13   +    2378    2620     243 native AGGGAG 6 1\n",
            "    14   +    2704    3561     858 native CACGAG 8 1\n",
            "    15   +    3979    4743     765 native TAGGAG 9 1\n",
            "    16   +    4755    5597     843 native TGAGAG 8 1\n",
            "    17   -    5736    6248     513 native AAAGAA 6 1\n",
            "    18   -    6249    6533     285 native AAGGTA 5 1\n",
            "    19   +    6756    7310     555 native GAGGAC 6 1\n",
            "    20   +    7456    8526    1071 native GACGAG 6 1\n",
            "    21   +    8629    8844     216 atypical CGCGAG 7 1\n",
            "    22   -    8865    10118    1254 native TAGGAC 8 1\n",
            "    23   -    10227    11756    1530 native TAGGCT 5 1\n",
            "    24   -    11933    12658     726 native TGGGAC 7 1\n",
            "    25   -    12878    14149    1272 native TTGGAG 5 1\n",
            "    26   +    14454    15395     942 native AAGGAG 6 1\n",
            "    27   -    15462    16613    1152 native GAGGAT 6 1\n",
            "    28   +    16791    17450     660 native CAGGAA 5 1\n",
            "    29   +    17454    20957    3504 native CAGGAA 12 1\n",
            "    30   +    21200    22384    1185 native ACGGAT 8 1\n",
            "    31   +    22485   >24545    2061 native ATAGAG 6 1\n",
            "    32   +    25136    25828     693 native AGGGCG 5 1\n",
            "    33   +    25845    26252     408 native TAGGAG 6 1\n",
            "    34   +    26311    26802     492 native GAGAAA 5 1\n",
            "    35   +    27792    28313     522 atypical AAGGAT 9 1\n"
          ]
        }
      ]
    },
    {
      "cell_type": "code",
      "source": [
        "with open(\"gms2.lst\", \"r\") as f:\n",
        "    gms_content = f.read()"
      ],
      "metadata": {
        "id": "nNqEYaw3_EOy"
      },
      "execution_count": null,
      "outputs": []
    },
    {
      "cell_type": "code",
      "source": [
        "import pandas as pd\n",
        "from io import StringIO\n",
        "\n",
        "def parse_tsv_string(string):\n",
        "    stream = StringIO(string)\n",
        "    return pd.read_csv(stream, sep=\"\\s+\", header=None, comment=\"#\", names=['N', 'Strand', 'Start', 'End', 'Len', 'Type', 'Seq', 'Unknown1', 'Unknown2'])"
      ],
      "metadata": {
        "id": "xGm2HmCJFQeo"
      },
      "execution_count": null,
      "outputs": []
    },
    {
      "cell_type": "code",
      "source": [
        "seqid_to_df = {}\n",
        "\n",
        "pieces = gms_content.split(\"SequenceID:\")[1:]\n",
        "for piece in pieces:\n",
        "    piece_lines = piece.split(\"\\n\")\n",
        "    piece_id = piece_lines[0].strip()\n",
        "    tsv_content = \"\\n\".join(piece_lines[1:])\n",
        "\n",
        "    df = parse_tsv_string(tsv_content)\n",
        "    seqid_to_df[piece_id] = df"
      ],
      "metadata": {
        "id": "SVhELkTX-3Cr"
      },
      "execution_count": null,
      "outputs": []
    },
    {
      "cell_type": "code",
      "source": [
        "list(seqid_to_df.values())[1]"
      ],
      "metadata": {
        "colab": {
          "base_uri": "https://localhost:8080/",
          "height": 424
        },
        "id": "EKYd2Y5AJMoQ",
        "outputId": "faa67ea5-b10d-4b29-d2d7-eea72fc9ae99"
      },
      "execution_count": null,
      "outputs": [
        {
          "output_type": "execute_result",
          "data": {
            "text/plain": [
              "         N Strand    Start      End  Len      Type     Seq  Unknown1  Unknown2\n",
              "0        9      -       <2      328  327    native  GAGGTG       4.0       1.0\n",
              "1       10      +      878     1360  483  atypical  CATGAA       5.0       1.0\n",
              "2       11      +     1462     1767  306  atypical  TCGCAG       6.0       1.0\n",
              "3       12      -     1917     2171  255    native  TTGTAT       8.0       1.0\n",
              "4       13      +     2378     2620  243    native  AGGGAG       6.0       1.0\n",
              "...    ...    ...      ...      ...  ...       ...     ...       ...       ...\n",
              "3478  3487      +  3830484  3831218  735    native  CAGGTC       8.0       1.0\n",
              "3479  3488      -  3831393  3831515  123    native  TTGGAG       7.0       1.0\n",
              "3480  3489      +  3831861  3832688  828  atypical  CAGGAT      10.0       1.0\n",
              "3481  3490      +  3833126  3833647  522  atypical  CAGGAA       7.0       1.0\n",
              "3482  3491      +  3833672  3834115  444  atypical  AGCGAG       6.0       1.0\n",
              "\n",
              "[3483 rows x 9 columns]"
            ],
            "text/html": [
              "\n",
              "  <div id=\"df-3c6b596e-5f97-4b25-ab77-957e34810872\">\n",
              "    <div class=\"colab-df-container\">\n",
              "      <div>\n",
              "<style scoped>\n",
              "    .dataframe tbody tr th:only-of-type {\n",
              "        vertical-align: middle;\n",
              "    }\n",
              "\n",
              "    .dataframe tbody tr th {\n",
              "        vertical-align: top;\n",
              "    }\n",
              "\n",
              "    .dataframe thead th {\n",
              "        text-align: right;\n",
              "    }\n",
              "</style>\n",
              "<table border=\"1\" class=\"dataframe\">\n",
              "  <thead>\n",
              "    <tr style=\"text-align: right;\">\n",
              "      <th></th>\n",
              "      <th>N</th>\n",
              "      <th>Strand</th>\n",
              "      <th>Start</th>\n",
              "      <th>End</th>\n",
              "      <th>Len</th>\n",
              "      <th>Type</th>\n",
              "      <th>Seq</th>\n",
              "      <th>Unknown1</th>\n",
              "      <th>Unknown2</th>\n",
              "    </tr>\n",
              "  </thead>\n",
              "  <tbody>\n",
              "    <tr>\n",
              "      <th>0</th>\n",
              "      <td>9</td>\n",
              "      <td>-</td>\n",
              "      <td>&lt;2</td>\n",
              "      <td>328</td>\n",
              "      <td>327</td>\n",
              "      <td>native</td>\n",
              "      <td>GAGGTG</td>\n",
              "      <td>4.0</td>\n",
              "      <td>1.0</td>\n",
              "    </tr>\n",
              "    <tr>\n",
              "      <th>1</th>\n",
              "      <td>10</td>\n",
              "      <td>+</td>\n",
              "      <td>878</td>\n",
              "      <td>1360</td>\n",
              "      <td>483</td>\n",
              "      <td>atypical</td>\n",
              "      <td>CATGAA</td>\n",
              "      <td>5.0</td>\n",
              "      <td>1.0</td>\n",
              "    </tr>\n",
              "    <tr>\n",
              "      <th>2</th>\n",
              "      <td>11</td>\n",
              "      <td>+</td>\n",
              "      <td>1462</td>\n",
              "      <td>1767</td>\n",
              "      <td>306</td>\n",
              "      <td>atypical</td>\n",
              "      <td>TCGCAG</td>\n",
              "      <td>6.0</td>\n",
              "      <td>1.0</td>\n",
              "    </tr>\n",
              "    <tr>\n",
              "      <th>3</th>\n",
              "      <td>12</td>\n",
              "      <td>-</td>\n",
              "      <td>1917</td>\n",
              "      <td>2171</td>\n",
              "      <td>255</td>\n",
              "      <td>native</td>\n",
              "      <td>TTGTAT</td>\n",
              "      <td>8.0</td>\n",
              "      <td>1.0</td>\n",
              "    </tr>\n",
              "    <tr>\n",
              "      <th>4</th>\n",
              "      <td>13</td>\n",
              "      <td>+</td>\n",
              "      <td>2378</td>\n",
              "      <td>2620</td>\n",
              "      <td>243</td>\n",
              "      <td>native</td>\n",
              "      <td>AGGGAG</td>\n",
              "      <td>6.0</td>\n",
              "      <td>1.0</td>\n",
              "    </tr>\n",
              "    <tr>\n",
              "      <th>...</th>\n",
              "      <td>...</td>\n",
              "      <td>...</td>\n",
              "      <td>...</td>\n",
              "      <td>...</td>\n",
              "      <td>...</td>\n",
              "      <td>...</td>\n",
              "      <td>...</td>\n",
              "      <td>...</td>\n",
              "      <td>...</td>\n",
              "    </tr>\n",
              "    <tr>\n",
              "      <th>3478</th>\n",
              "      <td>3487</td>\n",
              "      <td>+</td>\n",
              "      <td>3830484</td>\n",
              "      <td>3831218</td>\n",
              "      <td>735</td>\n",
              "      <td>native</td>\n",
              "      <td>CAGGTC</td>\n",
              "      <td>8.0</td>\n",
              "      <td>1.0</td>\n",
              "    </tr>\n",
              "    <tr>\n",
              "      <th>3479</th>\n",
              "      <td>3488</td>\n",
              "      <td>-</td>\n",
              "      <td>3831393</td>\n",
              "      <td>3831515</td>\n",
              "      <td>123</td>\n",
              "      <td>native</td>\n",
              "      <td>TTGGAG</td>\n",
              "      <td>7.0</td>\n",
              "      <td>1.0</td>\n",
              "    </tr>\n",
              "    <tr>\n",
              "      <th>3480</th>\n",
              "      <td>3489</td>\n",
              "      <td>+</td>\n",
              "      <td>3831861</td>\n",
              "      <td>3832688</td>\n",
              "      <td>828</td>\n",
              "      <td>atypical</td>\n",
              "      <td>CAGGAT</td>\n",
              "      <td>10.0</td>\n",
              "      <td>1.0</td>\n",
              "    </tr>\n",
              "    <tr>\n",
              "      <th>3481</th>\n",
              "      <td>3490</td>\n",
              "      <td>+</td>\n",
              "      <td>3833126</td>\n",
              "      <td>3833647</td>\n",
              "      <td>522</td>\n",
              "      <td>atypical</td>\n",
              "      <td>CAGGAA</td>\n",
              "      <td>7.0</td>\n",
              "      <td>1.0</td>\n",
              "    </tr>\n",
              "    <tr>\n",
              "      <th>3482</th>\n",
              "      <td>3491</td>\n",
              "      <td>+</td>\n",
              "      <td>3833672</td>\n",
              "      <td>3834115</td>\n",
              "      <td>444</td>\n",
              "      <td>atypical</td>\n",
              "      <td>AGCGAG</td>\n",
              "      <td>6.0</td>\n",
              "      <td>1.0</td>\n",
              "    </tr>\n",
              "  </tbody>\n",
              "</table>\n",
              "<p>3483 rows × 9 columns</p>\n",
              "</div>\n",
              "      <button class=\"colab-df-convert\" onclick=\"convertToInteractive('df-3c6b596e-5f97-4b25-ab77-957e34810872')\"\n",
              "              title=\"Convert this dataframe to an interactive table.\"\n",
              "              style=\"display:none;\">\n",
              "        \n",
              "  <svg xmlns=\"http://www.w3.org/2000/svg\" height=\"24px\"viewBox=\"0 0 24 24\"\n",
              "       width=\"24px\">\n",
              "    <path d=\"M0 0h24v24H0V0z\" fill=\"none\"/>\n",
              "    <path d=\"M18.56 5.44l.94 2.06.94-2.06 2.06-.94-2.06-.94-.94-2.06-.94 2.06-2.06.94zm-11 1L8.5 8.5l.94-2.06 2.06-.94-2.06-.94L8.5 2.5l-.94 2.06-2.06.94zm10 10l.94 2.06.94-2.06 2.06-.94-2.06-.94-.94-2.06-.94 2.06-2.06.94z\"/><path d=\"M17.41 7.96l-1.37-1.37c-.4-.4-.92-.59-1.43-.59-.52 0-1.04.2-1.43.59L10.3 9.45l-7.72 7.72c-.78.78-.78 2.05 0 2.83L4 21.41c.39.39.9.59 1.41.59.51 0 1.02-.2 1.41-.59l7.78-7.78 2.81-2.81c.8-.78.8-2.07 0-2.86zM5.41 20L4 18.59l7.72-7.72 1.47 1.35L5.41 20z\"/>\n",
              "  </svg>\n",
              "      </button>\n",
              "      \n",
              "  <style>\n",
              "    .colab-df-container {\n",
              "      display:flex;\n",
              "      flex-wrap:wrap;\n",
              "      gap: 12px;\n",
              "    }\n",
              "\n",
              "    .colab-df-convert {\n",
              "      background-color: #E8F0FE;\n",
              "      border: none;\n",
              "      border-radius: 50%;\n",
              "      cursor: pointer;\n",
              "      display: none;\n",
              "      fill: #1967D2;\n",
              "      height: 32px;\n",
              "      padding: 0 0 0 0;\n",
              "      width: 32px;\n",
              "    }\n",
              "\n",
              "    .colab-df-convert:hover {\n",
              "      background-color: #E2EBFA;\n",
              "      box-shadow: 0px 1px 2px rgba(60, 64, 67, 0.3), 0px 1px 3px 1px rgba(60, 64, 67, 0.15);\n",
              "      fill: #174EA6;\n",
              "    }\n",
              "\n",
              "    [theme=dark] .colab-df-convert {\n",
              "      background-color: #3B4455;\n",
              "      fill: #D2E3FC;\n",
              "    }\n",
              "\n",
              "    [theme=dark] .colab-df-convert:hover {\n",
              "      background-color: #434B5C;\n",
              "      box-shadow: 0px 1px 3px 1px rgba(0, 0, 0, 0.15);\n",
              "      filter: drop-shadow(0px 1px 2px rgba(0, 0, 0, 0.3));\n",
              "      fill: #FFFFFF;\n",
              "    }\n",
              "  </style>\n",
              "\n",
              "      <script>\n",
              "        const buttonEl =\n",
              "          document.querySelector('#df-3c6b596e-5f97-4b25-ab77-957e34810872 button.colab-df-convert');\n",
              "        buttonEl.style.display =\n",
              "          google.colab.kernel.accessAllowed ? 'block' : 'none';\n",
              "\n",
              "        async function convertToInteractive(key) {\n",
              "          const element = document.querySelector('#df-3c6b596e-5f97-4b25-ab77-957e34810872');\n",
              "          const dataTable =\n",
              "            await google.colab.kernel.invokeFunction('convertToInteractive',\n",
              "                                                     [key], {});\n",
              "          if (!dataTable) return;\n",
              "\n",
              "          const docLinkHtml = 'Like what you see? Visit the ' +\n",
              "            '<a target=\"_blank\" href=https://colab.research.google.com/notebooks/data_table.ipynb>data table notebook</a>'\n",
              "            + ' to learn more about interactive tables.';\n",
              "          element.innerHTML = '';\n",
              "          dataTable['output_type'] = 'display_data';\n",
              "          await google.colab.output.renderOutput(dataTable, element);\n",
              "          const docLink = document.createElement('div');\n",
              "          docLink.innerHTML = docLinkHtml;\n",
              "          element.appendChild(docLink);\n",
              "        }\n",
              "      </script>\n",
              "    </div>\n",
              "  </div>\n",
              "  "
            ]
          },
          "metadata": {},
          "execution_count": 162
        }
      ]
    },
    {
      "cell_type": "markdown",
      "source": [
        "Проаннотируем все скафоллды."
      ],
      "metadata": {
        "id": "OKK4GsdqZPZ6"
      }
    },
    {
      "cell_type": "code",
      "metadata": {
        "id": "1hegJvwMIiPe"
      },
      "source": [
        "from Bio import SeqIO\n",
        "\n",
        "records = []\n",
        "\n",
        "for record in SeqIO.parse(\"scaffolds.fasta\", \"fasta\"):\n",
        "  records.append(record)"
      ],
      "execution_count": null,
      "outputs": []
    },
    {
      "cell_type": "code",
      "source": [
        "print(len(records))\n",
        "records[0]"
      ],
      "metadata": {
        "id": "dqUNHl5XuVh_",
        "colab": {
          "base_uri": "https://localhost:8080/"
        },
        "outputId": "d3444188-3e51-4911-ba90-9fe9a258f104"
      },
      "execution_count": null,
      "outputs": [
        {
          "output_type": "stream",
          "name": "stdout",
          "text": [
            "82\n"
          ]
        },
        {
          "output_type": "execute_result",
          "data": {
            "text/plain": [
              "SeqRecord(seq=Seq('CCTTTGTAAAAATGCAGCATGCCGCCCGCGCCCTGCAAGCAGCATGGGAATCGG...TAA'), id='scaffold1_len4666_cov271', name='scaffold1_len4666_cov271', description='scaffold1_len4666_cov271', dbxrefs=[])"
            ]
          },
          "metadata": {},
          "execution_count": 218
        }
      ]
    },
    {
      "cell_type": "code",
      "source": [
        "max(len(record.seq) for record in records)"
      ],
      "metadata": {
        "id": "mCbOqT2QdjrL",
        "outputId": "54630975-88e2-4b20-8509-f47186f40f52",
        "colab": {
          "base_uri": "https://localhost:8080/"
        }
      },
      "execution_count": null,
      "outputs": [
        {
          "output_type": "execute_result",
          "data": {
            "text/plain": [
              "3834520"
            ]
          },
          "metadata": {},
          "execution_count": 219
        }
      ]
    },
    {
      "cell_type": "code",
      "source": [
        "records[0].id"
      ],
      "metadata": {
        "id": "eLKgrJ5vaH_t",
        "colab": {
          "base_uri": "https://localhost:8080/",
          "height": 36
        },
        "outputId": "ce34866f-da26-421f-83fd-245f3ebc174e"
      },
      "execution_count": null,
      "outputs": [
        {
          "output_type": "execute_result",
          "data": {
            "text/plain": [
              "'scaffold1_len4666_cov271'"
            ],
            "application/vnd.google.colaboratory.intrinsic+json": {
              "type": "string"
            }
          },
          "metadata": {},
          "execution_count": 145
        }
      ]
    },
    {
      "cell_type": "code",
      "source": [
        "len(records[0])"
      ],
      "metadata": {
        "id": "FLjqnjyJaUVf",
        "colab": {
          "base_uri": "https://localhost:8080/"
        },
        "outputId": "7178081f-0955-4576-926e-9894179e9571"
      },
      "execution_count": null,
      "outputs": [
        {
          "output_type": "execute_result",
          "data": {
            "text/plain": [
              "4666"
            ]
          },
          "metadata": {},
          "execution_count": 146
        }
      ]
    },
    {
      "cell_type": "code",
      "source": [
        "for record in records:\n",
        "    record.annotations['molecule_type'] = 'DNA'\n",
        "    record.format(\"genbank\")"
      ],
      "metadata": {
        "id": "IilT-kkKXC8A",
        "colab": {
          "base_uri": "https://localhost:8080/"
        },
        "outputId": "7a5431d9-256e-4dad-88fa-fbec3aa1a6c1"
      },
      "execution_count": null,
      "outputs": [
        {
          "output_type": "stream",
          "name": "stderr",
          "text": [
            "/usr/local/lib/python3.7/dist-packages/Bio/SeqIO/InsdcIO.py:730: BiopythonWarning: Increasing length of locus line to allow long name. This will result in fields that are not in usual positions.\n",
            "  BiopythonWarning,\n"
          ]
        }
      ]
    },
    {
      "cell_type": "code",
      "source": [
        "SeqIO.write(records, \"GENOME.gbk\", \"genbank\")"
      ],
      "metadata": {
        "id": "4mv05veKXHWo",
        "colab": {
          "base_uri": "https://localhost:8080/"
        },
        "outputId": "7944e270-f3b4-4381-861c-b580885bce0a"
      },
      "execution_count": null,
      "outputs": [
        {
          "output_type": "execute_result",
          "data": {
            "text/plain": [
              "82"
            ]
          },
          "metadata": {},
          "execution_count": 148
        }
      ]
    },
    {
      "cell_type": "markdown",
      "source": [
        "## Добавляем координаты генов"
      ],
      "metadata": {
        "id": "nuikKeO1bL7N"
      }
    },
    {
      "cell_type": "markdown",
      "source": [
        "```\n",
        "SequenceID: scaffold3_cov275\n",
        "  3535   -    30    1001     972 atypical GTCGAG 5 1\n",
        "  3536   -    1350    2192     843 native AAAGTG 7 1\n",
        "  3537   +    2304    2507     204 native GCGGAG 7 1\n",
        "  3538   -    2554    2751     198 native TAAGTA 7 1\n",
        "  3539   +    2855    3265     411 native TCGGTC 6 1\n",
        "```"
      ],
      "metadata": {
        "id": "lR-FjFgRba09"
      }
    },
    {
      "cell_type": "code",
      "metadata": {
        "id": "4cXKMhtmYZ9t"
      },
      "source": [
        "from pprint import pprint\n",
        "from Bio.SeqFeature import SeqFeature, FeatureLocation\n",
        "\n",
        "# AA sequences\n",
        "aa_records = {}\n",
        "for aa_record in SeqIO.parse(\"proteins.fasta\", \"fasta\"):\n",
        "    aa_records[aa_record.id] = aa_record\n",
        "\n",
        "def get_aa_translation(feature):\n",
        "    record_id = feature.qualifiers['locus_tag'][0]\n",
        "    if record_id in aa_records:\n",
        "        return aa_records[record_id]\n",
        "\n",
        "# Another bact genome\n",
        "hits_df = pd.read_csv(\"scaffolds.hits_from_MIL_1.txt\", sep=\"\\s+\", header=None)\n",
        "hits_df[0] = hits_df[0].apply(str)\n",
        "hits_df[\"Note\"] = hits_df.apply(lambda row: row[1].split(\"_\")[2], axis=1)\n",
        "\n",
        "def get_note_for_feature(f):\n",
        "    df = hits_df[hits_df[0] == f.qualifiers['locus_tag'][0]]\n",
        "    if 0 in df.shape:\n",
        "        return\n",
        "    return df[df[2] == df[2].max()].iloc[0][\"Note\"]\n",
        "\n",
        "mil_1_genome = SeqIO.read(\"/content/T_oleivorans_MIL_1.gbk\", \"genbank\")\n",
        "\n",
        "def set_mil_1_notes(f):\n",
        "    for mil_f in mil_1_genome.features:\n",
        "        if 'protein_id' not in mil_f.qualifiers:\n",
        "            continue\n",
        "\n",
        "        if f.qualifiers['note'][0] == mil_f.qualifiers['protein_id'][0]:\n",
        "            f.qualifiers['product'] = mil_f.qualifiers['product']\n",
        "            return True\n",
        "    return False\n",
        "\n",
        "# Swiss prot\n",
        "swiss_df = pd.read_csv(\"scaffolds.hits_from_SwissProt.txt\", sep=\"\\s+\", header=None)\n",
        "swiss_df[0] = swiss_df[0].apply(str)\n",
        "swiss_df[\"Name\"] = swiss_df.apply(lambda row: row[1].split(\"|\")[2], axis=1)\n",
        "\n",
        "def get_swiss_df_notes(f):\n",
        "    df = swiss_df[swiss_df[0] == f.qualifiers['locus_tag'][0]]\n",
        "    if 0 in df.shape:\n",
        "        return\n",
        "    res = df[df[10] == df[10].min()].iloc[0][\"Name\"]\n",
        "    if not res:\n",
        "        return\n",
        "    return f\"Similar to SwissProt protein {res} (E-value {df[10].min()})\"\n",
        "\n",
        "total_genes = 0\n",
        "genes_mil = 0\n",
        "genes_swiss = 0\n",
        "genes_unknown = 0\n",
        "\n",
        "def get_feature_from_row(row):\n",
        "    global total_genes, genes_mil, genes_swiss, genes_unknown\n",
        "    start = str(row[\"Start\"])\n",
        "    end = str(row[\"End\"])\n",
        "    length = str(row[\"Len\"])\n",
        "\n",
        "    if start.startswith(\"<\"):\n",
        "        start = start[1:]\n",
        "    start_i = int(start)\n",
        "\n",
        "    if end.startswith(\">\"):\n",
        "        end = end[1:]\n",
        "    end_i = int(end)\n",
        "    feature = SeqFeature(FeatureLocation(start_i, end_i, strand=1 if row[\"Strand\"] == \"+\" else -1), type=\"CDS\")\n",
        "    feature.qualifiers['locus_tag'] = [str(row[\"N\"])]\n",
        "    \n",
        "    total_genes += 1\n",
        "\n",
        "    aa_tr = get_aa_translation(feature)\n",
        "    if aa_tr:\n",
        "        feature.qualifiers['translation'] = [aa_tr.seq]\n",
        "\n",
        "    note = get_note_for_feature(feature)\n",
        "    if note:\n",
        "        feature.qualifiers['note'] = ['CCU72327.1']\n",
        "        mil_success = set_mil_1_notes(feature)\n",
        "    else:\n",
        "        mil_success = False\n",
        "    \n",
        "    if mil_success:\n",
        "        genes_mil += 1\n",
        "    else:\n",
        "        sw_product = get_swiss_df_notes(feature)\n",
        "        if sw_product:\n",
        "            genes_swiss += 1\n",
        "            feature.qualifiers['product'] = sw_product\n",
        "        else:\n",
        "            genes_unknown += 1\n",
        "    return feature\n",
        "\n",
        "\n",
        "for record in records:\n",
        "    record.features = []\n",
        "    df = seqid_to_df[record.id]\n",
        "    if 0 in df.shape:\n",
        "        continue\n",
        "\n",
        "    features = df.apply(get_feature_from_row, axis=1)\n",
        "    # for feature in features:\n",
        "    #     pprint(vars(feature))\n",
        "    record.features = features"
      ],
      "execution_count": null,
      "outputs": []
    },
    {
      "cell_type": "code",
      "source": [
        "SeqIO.write(records, \"GENOME.gbk\", \"genbank\")"
      ],
      "metadata": {
        "id": "GoDauTDCvcdM",
        "colab": {
          "base_uri": "https://localhost:8080/"
        },
        "outputId": "27299982-bedb-42e4-bdbe-a0f1d09f804b"
      },
      "execution_count": null,
      "outputs": [
        {
          "output_type": "stream",
          "name": "stderr",
          "text": [
            "/usr/local/lib/python3.7/dist-packages/Bio/SeqIO/InsdcIO.py:730: BiopythonWarning: Increasing length of locus line to allow long name. This will result in fields that are not in usual positions.\n",
            "  BiopythonWarning,\n"
          ]
        },
        {
          "output_type": "execute_result",
          "data": {
            "text/plain": [
              "82"
            ]
          },
          "metadata": {},
          "execution_count": 214
        }
      ]
    },
    {
      "cell_type": "code",
      "source": [
        "print(total_genes, genes_mil, genes_swiss, genes_unknown)"
      ],
      "metadata": {
        "colab": {
          "base_uri": "https://localhost:8080/"
        },
        "id": "0XIqVincaxEy",
        "outputId": "ae03f0ec-fe9e-42e5-d53c-23a4cad0b093"
      },
      "execution_count": null,
      "outputs": [
        {
          "output_type": "stream",
          "name": "stdout",
          "text": [
            "3569 3280 53 236\n"
          ]
        }
      ]
    },
    {
      "cell_type": "markdown",
      "source": [
        "## Добавляем трансляции генов (аминокислотные посл-ти)"
      ],
      "metadata": {
        "id": "ed-CWFY3cZK0"
      }
    },
    {
      "cell_type": "markdown",
      "source": [
        "Выше"
      ],
      "metadata": {
        "id": "Qx4tS1GQOfHf"
      }
    },
    {
      "cell_type": "markdown",
      "source": [
        "## Добавляем функции белков (из бактерии MIL-1)"
      ],
      "metadata": {
        "id": "D2UNiwEyet54"
      }
    },
    {
      "cell_type": "markdown",
      "source": [
        "Выше"
      ],
      "metadata": {
        "id": "tRjvCYowVs62"
      }
    },
    {
      "cell_type": "markdown",
      "source": [
        "## Добавляем функции белков (из БД SwissProt)"
      ],
      "metadata": {
        "id": "Pr5GctSQxlsQ"
      }
    },
    {
      "cell_type": "markdown",
      "source": [
        "Читаем информацию из файла scaffolds.hits_from_SwissProt.txt"
      ],
      "metadata": {
        "id": "xLafv2r8xo6P"
      }
    },
    {
      "cell_type": "code",
      "source": [
        "!head scaffolds.hits_from_SwissProt.txt"
      ],
      "metadata": {
        "id": "_bHOMEqhxvDd",
        "colab": {
          "base_uri": "https://localhost:8080/"
        },
        "outputId": "b1b1506f-00a3-433c-b6d1-1dcfef330b63"
      },
      "execution_count": null,
      "outputs": [
        {
          "output_type": "stream",
          "name": "stdout",
          "text": [
            "10\tsp|O07614|YHFO_BACSU\t42.857\t140\t80\t0\t15\t154\t3\t142\t3.12e-33\t117\n",
            "39\tsp|Q7DFU6|YGHX_ECOLI\t61.404\t114\t39\t1\t50\t163\t6\t114\t2.86e-40\t139\n",
            "39\tsp|P46209|USF_AQUPY\t32.900\t231\t125\t9\t88\t303\t15\t230\t2.49e-24\t101\n",
            "39\tsp|O67802|DLHH_AQUAE\t32.314\t229\t129\t9\t88\t303\t15\t230\t1.30e-22\t97.1\n",
            "39\tsp|P73163|DLHH_SYNY3\t28.968\t252\t151\t9\t70\t303\t4\t245\t2.78e-19\t88.2\n",
            "39\tsp|Q8ZAL4|DLHH_YERPE\t27.542\t236\t151\t5\t81\t302\t26\t255\t5.55e-18\t85.1\n",
            "39\tsp|F8QQ74|NAAC_BRASZ\t30.093\t216\t133\t7\t103\t303\t30\t242\t7.17e-17\t81.6\n",
            "39\tsp|Q8X8L4|DLHH_ECO57\t27.962\t211\t135\t5\t107\t302\t57\t265\t2.32e-16\t80.5\n",
            "39\tsp|P56262|DLHH_ECOLI\t27.962\t211\t135\t5\t107\t302\t57\t265\t1.02e-15\t79.0\n",
            "39\tsp|Q8Z3B8|DLHH_SALTI\t27.488\t211\t136\t5\t107\t302\t57\t265\t1.29e-15\t78.6\n"
          ]
        }
      ]
    },
    {
      "cell_type": "markdown",
      "source": [
        "product = 'Similar to SwissProt protein Y1178_METJA (E-value = 2.95e-28)'"
      ],
      "metadata": {
        "id": "UykENPFgyIQu"
      }
    },
    {
      "cell_type": "markdown",
      "source": [
        "Получить функции белков SwissProt из файла: https://ftp.uniprot.org/pub/databases/uniprot/current_release/knowledgebase/complete/uniprot_sprot.dat.gz"
      ],
      "metadata": {
        "id": "HWWUeHCdyAdb"
      }
    },
    {
      "cell_type": "code",
      "source": [
        "!wget https://ftp.uniprot.org/pub/databases/uniprot/current_release/knowledgebase/complete/uniprot_sprot.dat.gz"
      ],
      "metadata": {
        "colab": {
          "base_uri": "https://localhost:8080/"
        },
        "id": "tTRJ0KfnWIdt",
        "outputId": "8e2d2c44-4950-4eab-9471-809fad4b3d11"
      },
      "execution_count": null,
      "outputs": [
        {
          "output_type": "stream",
          "name": "stdout",
          "text": [
            "--2022-10-19 22:22:20--  https://ftp.uniprot.org/pub/databases/uniprot/current_release/knowledgebase/complete/uniprot_sprot.dat.gz\n",
            "Resolving ftp.uniprot.org (ftp.uniprot.org)... 128.175.240.195\n",
            "Connecting to ftp.uniprot.org (ftp.uniprot.org)|128.175.240.195|:443... connected.\n",
            "HTTP request sent, awaiting response... 200 OK\n",
            "Length: 642093634 (612M) [application/x-gzip]\n",
            "Saving to: ‘uniprot_sprot.dat.gz’\n",
            "\n",
            "uniprot_sprot.dat.g 100%[===================>] 612.35M  21.3MB/s    in 20s     \n",
            "\n",
            "2022-10-19 22:22:41 (30.2 MB/s) - ‘uniprot_sprot.dat.gz’ saved [642093634/642093634]\n",
            "\n"
          ]
        }
      ]
    },
    {
      "cell_type": "code",
      "source": [
        "!gzip -d uniprot_sprot.dat.gz"
      ],
      "metadata": {
        "id": "_7n4ZxdjWPxH"
      },
      "execution_count": null,
      "outputs": []
    },
    {
      "cell_type": "code",
      "source": [
        "!grep Q55EH8 uniprot_sprot.dat"
      ],
      "metadata": {
        "colab": {
          "base_uri": "https://localhost:8080/"
        },
        "id": "-nbARM7PWy3z",
        "outputId": "c1470a22-c4aa-49dd-d9cc-8fb6976c5a60"
      },
      "execution_count": null,
      "outputs": [
        {
          "output_type": "stream",
          "name": "stdout",
          "text": [
            "AC   Q55EH8;\n",
            "DR   AlphaFoldDB; Q55EH8; -.\n",
            "DR   SMR; Q55EH8; -.\n",
            "DR   PaxDb; Q55EH8; -.\n",
            "DR   InParanoid; Q55EH8; -.\n",
            "DR   PhylomeDB; Q55EH8; -.\n",
            "DR   PRO; PR:Q55EH8; -.\n"
          ]
        }
      ]
    },
    {
      "cell_type": "code",
      "source": [],
      "metadata": {
        "id": "UeTtrgnGWEDM"
      },
      "execution_count": null,
      "outputs": []
    }
  ]
}